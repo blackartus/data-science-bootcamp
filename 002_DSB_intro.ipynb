{
  "nbformat": 4,
  "nbformat_minor": 0,
  "metadata": {
    "colab": {
      "provenance": [],
      "authorship_tag": "ABX9TyOUFbOBMiAOdZOBMyp9CWUD",
      "include_colab_link": true
    },
    "kernelspec": {
      "name": "python3",
      "display_name": "Python 3"
    },
    "language_info": {
      "name": "python"
    }
  },
  "cells": [
    {
      "cell_type": "markdown",
      "metadata": {
        "id": "view-in-github",
        "colab_type": "text"
      },
      "source": [
        "<a href=\"https://colab.research.google.com/github/blackartus/data-science-bootcamp/blob/master/002_DSB_intro.ipynb\" target=\"_parent\"><img src=\"https://colab.research.google.com/assets/colab-badge.svg\" alt=\"Open In Colab\"/></a>"
      ]
    },
    {
      "cell_type": "code",
      "execution_count": 1,
      "metadata": {
        "colab": {
          "base_uri": "https://localhost:8080/"
        },
        "id": "680oRHZAJfdg",
        "outputId": "a656d28c-4184-483a-a9cb-637b09409313"
      },
      "outputs": [
        {
          "output_type": "stream",
          "name": "stdout",
          "text": [
            "Hello Colab\n"
          ]
        }
      ],
      "source": [
        "print('Hello Colab')"
      ]
    },
    {
      "cell_type": "markdown",
      "source": [
        "###Tekst Sekcji"
      ],
      "metadata": {
        "id": "ZvAT9pY3Jv0W"
      }
    },
    {
      "cell_type": "code",
      "source": [],
      "metadata": {
        "id": "SgenhoMmJsB6"
      },
      "execution_count": null,
      "outputs": []
    }
  ]
}